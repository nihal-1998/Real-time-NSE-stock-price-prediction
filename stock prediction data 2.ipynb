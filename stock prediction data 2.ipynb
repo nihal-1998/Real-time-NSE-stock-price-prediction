{
 "cells": [
  {
   "cell_type": "code",
   "execution_count": 41,
   "metadata": {
    "collapsed": false
   },
   "outputs": [
    {
     "name": "stdout",
     "output_type": "stream",
     "text": [
      "enter symbolIFCI\n"
     ]
    },
    {
     "data": {
      "text/html": [
       "<div>\n",
       "<style scoped>\n",
       "    .dataframe tbody tr th:only-of-type {\n",
       "        vertical-align: middle;\n",
       "    }\n",
       "\n",
       "    .dataframe tbody tr th {\n",
       "        vertical-align: top;\n",
       "    }\n",
       "\n",
       "    .dataframe thead th {\n",
       "        text-align: right;\n",
       "    }\n",
       "</style>\n",
       "<table border=\"1\" class=\"dataframe\">\n",
       "  <thead>\n",
       "    <tr style=\"text-align: right;\">\n",
       "      <th></th>\n",
       "      <th>Date</th>\n",
       "      <th>Prev Close</th>\n",
       "      <th>Open</th>\n",
       "      <th>High</th>\n",
       "      <th>Low</th>\n",
       "      <th>Last</th>\n",
       "      <th>Close</th>\n",
       "      <th>VWAP</th>\n",
       "      <th>Volume</th>\n",
       "      <th>Turnover</th>\n",
       "      <th>Trades</th>\n",
       "      <th>Deliverable Volume</th>\n",
       "      <th>%Deliverble</th>\n",
       "    </tr>\n",
       "  </thead>\n",
       "  <tbody>\n",
       "    <tr>\n",
       "      <th>239</th>\n",
       "      <td>2019-10-07</td>\n",
       "      <td>6.9</td>\n",
       "      <td>6.90</td>\n",
       "      <td>7.00</td>\n",
       "      <td>6.80</td>\n",
       "      <td>6.80</td>\n",
       "      <td>6.80</td>\n",
       "      <td>6.89</td>\n",
       "      <td>649430</td>\n",
       "      <td>4.471813e+11</td>\n",
       "      <td>1104</td>\n",
       "      <td>302534</td>\n",
       "      <td>0.4658</td>\n",
       "    </tr>\n",
       "    <tr>\n",
       "      <th>240</th>\n",
       "      <td>2019-10-09</td>\n",
       "      <td>6.8</td>\n",
       "      <td>6.80</td>\n",
       "      <td>6.95</td>\n",
       "      <td>6.75</td>\n",
       "      <td>6.85</td>\n",
       "      <td>6.80</td>\n",
       "      <td>6.83</td>\n",
       "      <td>799662</td>\n",
       "      <td>5.460228e+11</td>\n",
       "      <td>1460</td>\n",
       "      <td>508858</td>\n",
       "      <td>0.6363</td>\n",
       "    </tr>\n",
       "    <tr>\n",
       "      <th>241</th>\n",
       "      <td>2019-10-10</td>\n",
       "      <td>6.8</td>\n",
       "      <td>6.90</td>\n",
       "      <td>6.90</td>\n",
       "      <td>6.55</td>\n",
       "      <td>6.55</td>\n",
       "      <td>6.60</td>\n",
       "      <td>6.67</td>\n",
       "      <td>1000036</td>\n",
       "      <td>6.672173e+11</td>\n",
       "      <td>1745</td>\n",
       "      <td>619766</td>\n",
       "      <td>0.6197</td>\n",
       "    </tr>\n",
       "    <tr>\n",
       "      <th>242</th>\n",
       "      <td>2019-10-11</td>\n",
       "      <td>6.6</td>\n",
       "      <td>6.60</td>\n",
       "      <td>6.70</td>\n",
       "      <td>6.35</td>\n",
       "      <td>6.40</td>\n",
       "      <td>6.40</td>\n",
       "      <td>6.49</td>\n",
       "      <td>1152514</td>\n",
       "      <td>7.482278e+11</td>\n",
       "      <td>1828</td>\n",
       "      <td>787130</td>\n",
       "      <td>0.6830</td>\n",
       "    </tr>\n",
       "    <tr>\n",
       "      <th>243</th>\n",
       "      <td>2019-10-14</td>\n",
       "      <td>6.4</td>\n",
       "      <td>6.55</td>\n",
       "      <td>6.65</td>\n",
       "      <td>6.40</td>\n",
       "      <td>6.55</td>\n",
       "      <td>6.45</td>\n",
       "      <td>6.51</td>\n",
       "      <td>899555</td>\n",
       "      <td>5.852372e+11</td>\n",
       "      <td>6215</td>\n",
       "      <td>559749</td>\n",
       "      <td>0.6223</td>\n",
       "    </tr>\n",
       "  </tbody>\n",
       "</table>\n",
       "</div>"
      ],
      "text/plain": [
       "           Date  Prev Close  Open  High   Low  Last  Close  VWAP   Volume  \\\n",
       "239  2019-10-07         6.9  6.90  7.00  6.80  6.80   6.80  6.89   649430   \n",
       "240  2019-10-09         6.8  6.80  6.95  6.75  6.85   6.80  6.83   799662   \n",
       "241  2019-10-10         6.8  6.90  6.90  6.55  6.55   6.60  6.67  1000036   \n",
       "242  2019-10-11         6.6  6.60  6.70  6.35  6.40   6.40  6.49  1152514   \n",
       "243  2019-10-14         6.4  6.55  6.65  6.40  6.55   6.45  6.51   899555   \n",
       "\n",
       "         Turnover  Trades  Deliverable Volume  %Deliverble  \n",
       "239  4.471813e+11    1104              302534       0.4658  \n",
       "240  5.460228e+11    1460              508858       0.6363  \n",
       "241  6.672173e+11    1745              619766       0.6197  \n",
       "242  7.482278e+11    1828              787130       0.6830  \n",
       "243  5.852372e+11    6215              559749       0.6223  "
      ]
     },
     "execution_count": 41,
     "metadata": {},
     "output_type": "execute_result"
    },
    {
     "data": {
      "image/png": "[encoded data removed]",
      "text/plain": [
       "<matplotlib.figure.Figure at 0x12c65200ef0>"
      ]
     },
     "metadata": {},
     "output_type": "display_data"
    }
   ],
   "source": [
    "from nsepy import get_history\n",
    "from datetime import datetime\n",
    "import dateutil.relativedelta\n",
    "import pandas as pd\n",
    "import matplotlib.pyplot as plt\n",
    "%matplotlib inline\n",
    "plt.style.use('fivethirtyeight')\n",
    "\n",
    "end1 = datetime.now()\n",
    "start1 = datetime(end1.year-1,end1.month,end1.day)\n",
    "\n",
    "\n",
    "ticker = input('enter symbol')\n",
    "data=get_history(symbol=ticker,start=start1,end=end1)\n",
    "\n",
    "#data['Close'].plot()\n",
    "#plt.show()\n",
    "\n",
    "\n",
    "data.reset_index(level=0, inplace=True)\n",
    "data = data.drop(columns=['Symbol','Series'])\n",
    "\n",
    "plt.figure(figsize=(18,6))\n",
    "plt.plot(data['Last'])\n",
    "\n",
    "\n",
    "data.tail()"
   ]
  },
  {
   "cell_type": "code",
   "execution_count": null,
   "metadata": {
    "collapsed": true
   },
   "outputs": [],
   "source": []
  },
  {
   "cell_type": "code",
   "execution_count": 42,
   "metadata": {
    "collapsed": true
   },
   "outputs": [],
   "source": [
    "data = data.sort_index(ascending=True, axis=0)\n",
    "\n",
    "#creating a separate dataset\n",
    "new_data = pd.DataFrame(index=range(0,len(data)),columns=['Date', 'Last'])\n",
    "\n",
    "for i in range(0,len(data)):\n",
    "    new_data['Date'][i] = data['Date'][i]\n",
    "    new_data['Last'][i] = data['Last'][i]"
   ]
  },
  {
   "cell_type": "code",
   "execution_count": null,
   "metadata": {
    "collapsed": false
   },
   "outputs": [],
   "source": []
  },
  {
   "cell_type": "code",
   "execution_count": 43,
   "metadata": {
    "collapsed": false
   },
   "outputs": [],
   "source": [
    "from sklearn.preprocessing import MinMaxScaler\n",
    "from keras.models import Sequential\n",
    "from keras.layers import Dense, Dropout, LSTM"
   ]
  },
  {
   "cell_type": "code",
   "execution_count": 44,
   "metadata": {
    "collapsed": false
   },
   "outputs": [],
   "source": [
    "#setting index\n",
    "new_data.index = new_data.Date\n",
    "new_data.drop('Date', axis=1, inplace=True)"
   ]
  },
  {
   "cell_type": "code",
   "execution_count": 45,
   "metadata": {
    "collapsed": false
   },
   "outputs": [],
   "source": [
    "#creating train and test sets\n",
    "dataset = new_data.values\n",
    "\n",
    "train = dataset[0:190,:]\n",
    "valid = dataset[190:,:]"
   ]
  },
  {
   "cell_type": "code",
   "execution_count": 46,
   "metadata": {
    "collapsed": false
   },
   "outputs": [
    {
     "name": "stderr",
     "output_type": "stream",
     "text": [
      "C:\\Users\\Nihal Patel\\Anaconda3\\lib\\site-packages\\sklearn\\utils\\validation.py:420: DataConversionWarning: Data with input dtype object was converted to float64 by MinMaxScaler.\n",
      "  warnings.warn(msg, DataConversionWarning)\n"
     ]
    }
   ],
   "source": [
    "#converting dataset into x_train and y_train\n",
    "scaler = MinMaxScaler(feature_range=(0, 1))\n",
    "scaled_data = scaler.fit_transform(dataset)"
   ]
  },
  {
   "cell_type": "code",
   "execution_count": 47,
   "metadata": {
    "collapsed": false
   },
   "outputs": [
    {
     "data": {
      "text/plain": [
       "(244, 1)"
      ]
     },
     "execution_count": 47,
     "metadata": {},
     "output_type": "execute_result"
    }
   ],
   "source": [
    "scaled_data.shape"
   ]
  },
  {
   "cell_type": "code",
   "execution_count": 48,
   "metadata": {
    "collapsed": true
   },
   "outputs": [],
   "source": [
    "import numpy as np\n",
    "x_train, y_train = [], []\n",
    "for i in range(70,len(train)):\n",
    "    x_train.append(scaled_data[i-70:i,0])\n",
    "    y_train.append(scaled_data[i,0])\n",
    "x_train, y_train = np.array(x_train), np.array(y_train)"
   ]
  },
  {
   "cell_type": "code",
   "execution_count": null,
   "metadata": {
    "collapsed": false
   },
   "outputs": [],
   "source": []
  },
  {
   "cell_type": "code",
   "execution_count": 49,
   "metadata": {
    "collapsed": false
   },
   "outputs": [],
   "source": [
    "x_train = np.reshape(x_train, (x_train.shape[0],x_train.shape[1],1))"
   ]
  },
  {
   "cell_type": "code",
   "execution_count": 50,
   "metadata": {
    "collapsed": false
   },
   "outputs": [
    {
     "data": {
      "text/plain": [
       "(120, 70, 1)"
      ]
     },
     "execution_count": 50,
     "metadata": {},
     "output_type": "execute_result"
    }
   ],
   "source": [
    "x_train.shape"
   ]
  },
  {
   "cell_type": "code",
   "execution_count": 51,
   "metadata": {
    "collapsed": false
   },
   "outputs": [
    {
     "name": "stdout",
     "output_type": "stream",
     "text": [
      "Epoch 1/1\n",
      " - 14s - loss: 0.0291\n"
     ]
    },
    {
     "data": {
      "text/plain": [
       "<keras.callbacks.History at 0x12c746ec748>"
      ]
     },
     "execution_count": 51,
     "metadata": {},
     "output_type": "execute_result"
    }
   ],
   "source": [
    "model = Sequential()\n",
    "model.add(LSTM(units=50, return_sequences=True, input_shape=(x_train.shape[1],1)))\n",
    "model.add(LSTM(units=50))\n",
    "model.add(Dense(1))\n",
    "\n",
    "model.compile(loss='mean_squared_error', optimizer='adam')\n",
    "model.fit(x_train, y_train, epochs=1, batch_size=1, verbose=2)"
   ]
  },
  {
   "cell_type": "code",
   "execution_count": 52,
   "metadata": {
    "collapsed": false
   },
   "outputs": [
    {
     "name": "stdout",
     "output_type": "stream",
     "text": [
      "(124, 1)\n",
      "(124, 1)\n"
     ]
    }
   ],
   "source": [
    "#predicting 246 values, using past 60 from the train data\n",
    "inputs = new_data[len(new_data) - len(valid) - 70:].values\n",
    "print(inputs.shape)\n",
    "inputs = inputs.reshape(-1,1)\n",
    "print(inputs.shape)\n",
    "inputs  = scaler.transform(inputs)"
   ]
  },
  {
   "cell_type": "code",
   "execution_count": 53,
   "metadata": {
    "collapsed": false
   },
   "outputs": [
    {
     "data": {
      "text/plain": [
       "(124, 1)"
      ]
     },
     "execution_count": 53,
     "metadata": {},
     "output_type": "execute_result"
    }
   ],
   "source": [
    "inputs.shape"
   ]
  },
  {
   "cell_type": "code",
   "execution_count": 54,
   "metadata": {
    "collapsed": false
   },
   "outputs": [
    {
     "data": {
      "text/plain": [
       "(54, 70)"
      ]
     },
     "execution_count": 54,
     "metadata": {},
     "output_type": "execute_result"
    }
   ],
   "source": [
    "X_test = []\n",
    "for i in range(70,inputs.shape[0]):\n",
    "    X_test.append(inputs[i-70:i,0])\n",
    "X_test = np.array(X_test)\n",
    "X_test.shape"
   ]
  },
  {
   "cell_type": "code",
   "execution_count": 55,
   "metadata": {
    "collapsed": false
   },
   "outputs": [
    {
     "data": {
      "text/plain": [
       "(70, 1)"
      ]
     },
     "execution_count": 55,
     "metadata": {},
     "output_type": "execute_result"
    }
   ],
   "source": [
    "inputs_future = inputs[54:125]\n",
    "inputs_future\n",
    "inputs_future.shape\n",
    "inputs_future = inputs_future.reshape(-1,1)\n",
    "inputs_future.shape"
   ]
  },
  {
   "cell_type": "code",
   "execution_count": 56,
   "metadata": {
    "collapsed": false
   },
   "outputs": [
    {
     "data": {
      "text/plain": [
       "(54, 70, 1)"
      ]
     },
     "execution_count": 56,
     "metadata": {},
     "output_type": "execute_result"
    }
   ],
   "source": [
    "X_test = np.reshape(X_test, (X_test.shape[0],X_test.shape[1],1))\n",
    "closing_price = model.predict(X_test)\n",
    "closing_price = scaler.inverse_transform(closing_price)\n",
    "X_test.shape"
   ]
  },
  {
   "cell_type": "code",
   "execution_count": 57,
   "metadata": {
    "collapsed": false
   },
   "outputs": [
    {
     "data": {
      "text/plain": [
       "(54, 1)"
      ]
     },
     "execution_count": 57,
     "metadata": {},
     "output_type": "execute_result"
    }
   ],
   "source": [
    "closing_price.shape"
   ]
  },
  {
   "cell_type": "code",
   "execution_count": null,
   "metadata": {
    "collapsed": false
   },
   "outputs": [],
   "source": []
  },
  {
   "cell_type": "code",
   "execution_count": 58,
   "metadata": {
    "collapsed": false
   },
   "outputs": [
    {
     "data": {
      "text/plain": [
       "0.52192546264004713"
      ]
     },
     "execution_count": 58,
     "metadata": {},
     "output_type": "execute_result"
    }
   ],
   "source": [
    "rms=np.sqrt(np.mean(np.power((valid-closing_price),2)))\n",
    "rms"
   ]
  },
  {
   "cell_type": "code",
   "execution_count": 59,
   "metadata": {
    "collapsed": false
   },
   "outputs": [
    {
     "name": "stdout",
     "output_type": "stream",
     "text": [
      "(70, 1)\n",
      "(71, 1)\n",
      "(71, 1)\n",
      "(72, 1)\n",
      "(72, 1)\n",
      "(73, 1)\n",
      "(73, 1)\n",
      "(74, 1)\n",
      "(74, 1)\n",
      "(75, 1)\n",
      "(75, 1)\n",
      "(76, 1)\n",
      "(76, 1)\n",
      "(77, 1)\n",
      "(77, 1)\n",
      "(78, 1)\n",
      "(78, 1)\n",
      "(79, 1)\n",
      "(79, 1)\n",
      "(80, 1)\n",
      "(80, 1)\n",
      "(81, 1)\n",
      "(81, 1)\n",
      "(82, 1)\n",
      "(82, 1)\n",
      "(83, 1)\n",
      "(83, 1)\n",
      "(84, 1)\n",
      "(84, 1)\n",
      "(85, 1)\n",
      "(85, 1)\n",
      "(86, 1)\n",
      "(86, 1)\n",
      "(87, 1)\n",
      "(87, 1)\n",
      "(88, 1)\n",
      "(88, 1)\n",
      "(89, 1)\n",
      "(89, 1)\n",
      "(90, 1)\n",
      "(90, 1)\n",
      "(91, 1)\n",
      "(91, 1)\n",
      "(92, 1)\n",
      "(92, 1)\n",
      "(93, 1)\n",
      "(93, 1)\n",
      "(94, 1)\n",
      "(94, 1)\n",
      "(95, 1)\n",
      "(95, 1)\n",
      "(96, 1)\n",
      "(96, 1)\n",
      "(97, 1)\n",
      "(97, 1)\n",
      "(98, 1)\n",
      "(98, 1)\n",
      "(99, 1)\n",
      "(99, 1)\n",
      "(100, 1)\n",
      "(100, 1)\n",
      "(101, 1)\n",
      "(101, 1)\n",
      "(102, 1)\n",
      "(102, 1)\n",
      "(103, 1)\n",
      "(103, 1)\n",
      "(104, 1)\n",
      "(104, 1)\n",
      "(105, 1)\n",
      "(105, 1)\n",
      "(106, 1)\n",
      "(106, 1)\n",
      "(107, 1)\n",
      "(107, 1)\n",
      "(108, 1)\n",
      "(108, 1)\n",
      "(109, 1)\n",
      "(109, 1)\n",
      "(110, 1)\n",
      "(110, 1)\n",
      "(111, 1)\n",
      "(111, 1)\n",
      "(112, 1)\n",
      "(112, 1)\n",
      "(113, 1)\n",
      "(113, 1)\n",
      "(114, 1)\n",
      "(114, 1)\n",
      "(115, 1)\n",
      "(115, 1)\n",
      "(116, 1)\n",
      "(116, 1)\n",
      "(117, 1)\n",
      "(117, 1)\n",
      "(118, 1)\n",
      "(118, 1)\n",
      "(119, 1)\n",
      "(119, 1)\n",
      "(120, 1)\n",
      "(120, 1)\n",
      "(121, 1)\n",
      "(121, 1)\n",
      "(122, 1)\n",
      "(122, 1)\n",
      "(123, 1)\n",
      "(123, 1)\n",
      "(124, 1)\n"
     ]
    }
   ],
   "source": [
    "closing_price_future = []\n",
    "X_future_list = []\n",
    "for i in range(70,inputs.shape[0]):\n",
    "        X_future = inputs_future[i-70:i,0]\n",
    "        print(inputs_future.shape)\n",
    "        X_future_list.append(X_future)\n",
    "        X_future = np.array(X_future)\n",
    "        X_future = np.reshape(X_future,(1,70,1))\n",
    "        Cl_future = model.predict(X_future)\n",
    "        \n",
    "        inputs_future = np.append(inputs_future,Cl_future)\n",
    "        inputs_future = inputs_future.reshape(-1,1)\n",
    "        print(inputs_future.shape)\n",
    "        pre_close = scaler.inverse_transform(Cl_future)\n",
    "        closing_price_future.append(pre_close)    "
   ]
  },
  {
   "cell_type": "code",
   "execution_count": 60,
   "metadata": {
    "collapsed": false
   },
   "outputs": [
    {
     "data": {
      "text/plain": [
       "[array([[ 7.26590872]], dtype=float32),\n",
       " array([[ 7.24718666]], dtype=float32),\n",
       " array([[ 7.25366545]], dtype=float32),\n",
       " array([[ 7.27615356]], dtype=float32),\n",
       " array([[ 7.30819321]], dtype=float32),\n",
       " array([[ 7.3454237]], dtype=float32),\n",
       " array([[ 7.38501215]], dtype=float32),\n",
       " array([[ 7.42519093]], dtype=float32),\n",
       " array([[ 7.46490431]], dtype=float32),\n",
       " array([[ 7.5035615]], dtype=float32),\n",
       " array([[ 7.54085732]], dtype=float32),\n",
       " array([[ 7.57666063]], dtype=float32),\n",
       " array([[ 7.6109395]], dtype=float32),\n",
       " array([[ 7.64371634]], dtype=float32),\n",
       " array([[ 7.67503977]], dtype=float32),\n",
       " array([[ 7.70497036]], dtype=float32),\n",
       " array([[ 7.73357058]], dtype=float32),\n",
       " array([[ 7.76090574]], dtype=float32),\n",
       " array([[ 7.7870326]], dtype=float32),\n",
       " array([[ 7.81201172]], dtype=float32),\n",
       " array([[ 7.83589315]], dtype=float32),\n",
       " array([[ 7.85872984]], dtype=float32),\n",
       " array([[ 7.88056803]], dtype=float32),\n",
       " array([[ 7.90145397]], dtype=float32),\n",
       " array([[ 7.92143011]], dtype=float32),\n",
       " array([[ 7.94053698]], dtype=float32),\n",
       " array([[ 7.95881414]], dtype=float32),\n",
       " array([[ 7.97629881]], dtype=float32),\n",
       " array([[ 7.99302483]], dtype=float32),\n",
       " array([[ 8.00902843]], dtype=float32),\n",
       " array([[ 8.02434063]], dtype=float32),\n",
       " array([[ 8.03899097]], dtype=float32),\n",
       " array([[ 8.05300999]], dtype=float32),\n",
       " array([[ 8.06642628]], dtype=float32),\n",
       " array([[ 8.07926655]], dtype=float32),\n",
       " array([[ 8.09155369]], dtype=float32),\n",
       " array([[ 8.10331535]], dtype=float32),\n",
       " array([[ 8.11457253]], dtype=float32),\n",
       " array([[ 8.12534809]], dtype=float32),\n",
       " array([[ 8.13566303]], dtype=float32),\n",
       " array([[ 8.14553833]], dtype=float32),\n",
       " array([[ 8.1549921]], dtype=float32),\n",
       " array([[ 8.16404343]], dtype=float32),\n",
       " array([[ 8.17270851]], dtype=float32),\n",
       " array([[ 8.18100643]], dtype=float32),\n",
       " array([[ 8.18895149]], dtype=float32),\n",
       " array([[ 8.19655991]], dtype=float32),\n",
       " array([[ 8.20384407]], dtype=float32),\n",
       " array([[ 8.2108202]], dtype=float32),\n",
       " array([[ 8.21750164]], dtype=float32),\n",
       " array([[ 8.22389984]], dtype=float32),\n",
       " array([[ 8.2300272]], dtype=float32),\n",
       " array([[ 8.23589611]], dtype=float32),\n",
       " array([[ 8.24151707]], dtype=float32)]"
      ]
     },
     "execution_count": 60,
     "metadata": {},
     "output_type": "execute_result"
    }
   ],
   "source": [
    "closing_price_future"
   ]
  },
  {
   "cell_type": "code",
   "execution_count": null,
   "metadata": {
    "collapsed": false
   },
   "outputs": [],
   "source": [
    "data_closing_price_future = np.asarray(closing_price_future)\n",
    "data_closing_price_future  =np.squeeze(data_closing_price_future, axis=2)\n",
    "\n",
    "#valid['Predictions'] = np.concatenate((closing_price[:,:],data_closing_price_future[:,:]))"
   ]
  },
  {
   "cell_type": "code",
   "execution_count": null,
   "metadata": {
    "collapsed": false
   },
   "outputs": [],
   "source": [
    "data_closing_price_future.shape"
   ]
  },
  {
   "cell_type": "code",
   "execution_count": null,
   "metadata": {
    "collapsed": false
   },
   "outputs": [],
   "source": [
    "#data_closing_price_future\n",
    "closing_price.shape"
   ]
  },
  {
   "cell_type": "code",
   "execution_count": null,
   "metadata": {
    "collapsed": false
   },
   "outputs": [],
   "source": [
    "total_prediction = np.concatenate((closing_price,data_closing_price_future))"
   ]
  },
  {
   "cell_type": "code",
   "execution_count": null,
   "metadata": {
    "collapsed": false
   },
   "outputs": [],
   "source": [
    "total_prediction.shape"
   ]
  },
  {
   "cell_type": "code",
   "execution_count": null,
   "metadata": {
    "collapsed": false
   },
   "outputs": [],
   "source": [
    "#for plotting\n",
    "train = new_data[:190]\n",
    "valid = new_data[190:]\n",
    "valid['Predictions'] = closing_price\n",
    "plt.figure(figsize=(18,6))\n",
    "plt.plot(train['Last'])\n",
    "plt.plot(valid[['Last','Predictions']])"
   ]
  },
  {
   "cell_type": "code",
   "execution_count": null,
   "metadata": {
    "collapsed": false
   },
   "outputs": [],
   "source": [
    "valid"
   ]
  },
  {
   "cell_type": "code",
   "execution_count": null,
   "metadata": {
    "collapsed": false
   },
   "outputs": [],
   "source": [
    "end11 = datetime.now()\n",
    "start11 = datetime(end11.year-1,end11.month,end11.day)\n"
   ]
  },
  {
   "cell_type": "code",
   "execution_count": null,
   "metadata": {
    "collapsed": false
   },
   "outputs": [],
   "source": [
    "end11"
   ]
  },
  {
   "cell_type": "code",
   "execution_count": null,
   "metadata": {
    "collapsed": false
   },
   "outputs": [],
   "source": [
    "from datetime import datetime,timedelta\n",
    "numdays = 55\n",
    "base = datetime.today()\n",
    "date_list = [base + timedelta(days=x) for x in range(numdays)]"
   ]
  },
  {
   "cell_type": "code",
   "execution_count": null,
   "metadata": {
    "collapsed": false
   },
   "outputs": [],
   "source": [
    "date_list\n",
    "future_date = np.asarray(date_list)\n"
   ]
  },
  {
   "cell_type": "code",
   "execution_count": null,
   "metadata": {
    "collapsed": false
   },
   "outputs": [],
   "source": [
    "future_date = pd.DataFrame(index = future_date,columns=['date'])"
   ]
  },
  {
   "cell_type": "code",
   "execution_count": null,
   "metadata": {
    "collapsed": false
   },
   "outputs": [],
   "source": [
    "future_date"
   ]
  },
  {
   "cell_type": "code",
   "execution_count": null,
   "metadata": {
    "collapsed": false
   },
   "outputs": [],
   "source": []
  },
  {
   "cell_type": "code",
   "execution_count": null,
   "metadata": {
    "collapsed": true
   },
   "outputs": [],
   "source": []
  }
 ],
 "metadata": {
  "anaconda-cloud": {},
  "kernelspec": {
   "display_name": "Python [conda env:Anaconda3]",
   "language": "python",
   "name": "conda-env-Anaconda3-py"
  },
  "language_info": {
   "codemirror_mode": {
    "name": "ipython",
    "version": 3
   },
   "file_extension": ".py",
   "mimetype": "text/x-python",
   "name": "python",
   "nbconvert_exporter": "python",
   "pygments_lexer": "ipython3",
   "version": "3.5.5"
  }
 },
 "nbformat": 4,
 "nbformat_minor": 1
}
